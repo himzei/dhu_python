{
 "cells": [
  {
   "cell_type": "code",
   "execution_count": 1,
   "metadata": {},
   "outputs": [
    {
     "name": "stdout",
     "output_type": "stream",
     "text": [
      "택시를 타고 가라\n"
     ]
    }
   ],
   "source": [
    "# 돈이 있으면 택시를 타고 가고, 돈이 없으면 걸아간다. \n",
    "\n",
    "money = True #  돈이 있는 경우 \n",
    "\n",
    "if money == True: \n",
    "    print(\"택시를 타고 가라\")\n",
    "else:\n",
    "    print(\"걸어간다\")\n"
   ]
  },
  {
   "cell_type": "code",
   "execution_count": 2,
   "metadata": {},
   "outputs": [
    {
     "name": "stdout",
     "output_type": "stream",
     "text": [
      "걸어가라\n"
     ]
    }
   ],
   "source": [
    "# 만약 3000원 이상의 돈을 가지고 있으면 택시를 타고 가고, 그렇지 않으면 걸어가라\n",
    "\n",
    "money = 2000\n",
    "\n",
    "if money >= 3000: \n",
    "    print(\"택시를 타고 가라\")\n",
    "else: \n",
    "    print(\"걸어가라\")\n",
    "    "
   ]
  },
  {
   "cell_type": "code",
   "execution_count": 6,
   "metadata": {},
   "outputs": [
    {
     "name": "stdout",
     "output_type": "stream",
     "text": [
      "걸어가라\n"
     ]
    }
   ],
   "source": [
    "# 돈이 3000원 이상 있거나 카드가 있다면 택시를 타고가고, 그렇지 않으면 걸어가라 \n",
    "\n",
    "money = 2000\n",
    "card = 0 \n",
    "\n",
    "if money >= 3000 or card: \n",
    "    print(\"택시를 타고 가라\")\n",
    "else: \n",
    "    print(\"걸어가라\")"
   ]
  },
  {
   "cell_type": "code",
   "execution_count": 7,
   "metadata": {},
   "outputs": [
    {
     "name": "stdout",
     "output_type": "stream",
     "text": [
      "택시를 타고 가라\n"
     ]
    }
   ],
   "source": [
    "# 만약 주머니에 돈이 있으면 택시를 타고 가고, 그렇지 않으면 걸어가라 \n",
    "\n",
    "주머니 = [\"카드\", \"돈\", \"열쇠\"]\n",
    "\n",
    "if \"돈\" in 주머니: \n",
    "    print(\"택시를 타고 가라\")\n",
    "else: \n",
    "    print(\"걸어가라\")"
   ]
  },
  {
   "cell_type": "code",
   "execution_count": 8,
   "metadata": {},
   "outputs": [
    {
     "name": "stdout",
     "output_type": "stream",
     "text": [
      "걸어가라\n"
     ]
    }
   ],
   "source": [
    "# 주머니에 돈이 있으면 택시를 타고 가고, \n",
    "# 주머니에 돈이 없지만 카드가 있으면 택시를 타고가고, \n",
    "# 돈도 없고, 카드도 없으면 걸어가라.\n",
    "\n",
    "주머니 = [\"카드\", \"열쇠\"]\n",
    "카드 = True \n",
    "\n",
    "if \"돈\" in 주머니: \n",
    "    print(\"택시를 타고 가라\")\n",
    "else: \n",
    "    if card: \n",
    "        print(\"택시를 타고 가라\")\n",
    "    else:\n",
    "        print(\"걸어가라\")\n",
    "    \n"
   ]
  },
  {
   "cell_type": "code",
   "execution_count": 9,
   "metadata": {},
   "outputs": [
    {
     "name": "stdout",
     "output_type": "stream",
     "text": [
      "걸어 가라\n"
     ]
    }
   ],
   "source": [
    "if \"돈\" in 주머니: \n",
    "    print(\"택시를 타고 가라\")\n",
    "elif card:\n",
    "    print(\"택시를 타고 가라\")\n",
    "else:\n",
    "    print(\"걸어 가라\")"
   ]
  },
  {
   "cell_type": "code",
   "execution_count": 13,
   "metadata": {},
   "outputs": [
    {
     "name": "stdout",
     "output_type": "stream",
     "text": [
      "꺼내라\n",
      "계산해라\n"
     ]
    }
   ],
   "source": [
    "# 만약에 카드가 없으면 가만히 있고(pass), 있으면 카드를 꺼내라\n",
    "\n",
    "주머니 = [\"카드\", \"열쇠\"]\n",
    "\n",
    "if \"카드\" not in 주머니: \n",
    "    pass\n",
    "else: \n",
    "    print(\"꺼내라\")\n",
    "    print(\"계산해라\")"
   ]
  },
  {
   "cell_type": "code",
   "execution_count": 12,
   "metadata": {},
   "outputs": [
    {
     "name": "stdout",
     "output_type": "stream",
     "text": [
      "꺼내라\n"
     ]
    }
   ],
   "source": [
    "주머니 = [\"카드\", \"열쇠\"]\n",
    "\n",
    "if \"카드\" not in 주머니: pass\n",
    "else: print(\"꺼내라\")"
   ]
  },
  {
   "cell_type": "code",
   "execution_count": 15,
   "metadata": {},
   "outputs": [
    {
     "name": "stdout",
     "output_type": "stream",
     "text": [
      "success\n"
     ]
    }
   ],
   "source": [
    "# score가 60점 이상인 경우 message에 \"success\"를 대입하고\n",
    "# 아닐 경우에는 \"failure\"를 대입하라\n",
    "\n",
    "score = 70\n",
    "\n",
    "if score >= 60: \n",
    "    message = \"success\" \n",
    "else: \n",
    "    message = \"failure\"\n",
    "\n",
    "\n"
   ]
  },
  {
   "cell_type": "code",
   "execution_count": 17,
   "metadata": {},
   "outputs": [
    {
     "name": "stdout",
     "output_type": "stream",
     "text": [
      "success\n"
     ]
    }
   ],
   "source": [
    "message = \"success\" if score >= 60 else \"failure\"\n",
    "\n",
    "print(message)"
   ]
  },
  {
   "cell_type": "code",
   "execution_count": null,
   "metadata": {},
   "outputs": [],
   "source": []
  }
 ],
 "metadata": {
  "kernelspec": {
   "display_name": "Python 3",
   "language": "python",
   "name": "python3"
  },
  "language_info": {
   "codemirror_mode": {
    "name": "ipython",
    "version": 3
   },
   "file_extension": ".py",
   "mimetype": "text/x-python",
   "name": "python",
   "nbconvert_exporter": "python",
   "pygments_lexer": "ipython3",
   "version": "3.13.1"
  }
 },
 "nbformat": 4,
 "nbformat_minor": 2
}
