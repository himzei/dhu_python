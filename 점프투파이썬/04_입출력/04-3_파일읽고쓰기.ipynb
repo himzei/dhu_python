{
 "cells": [
  {
   "cell_type": "code",
   "execution_count": 1,
   "metadata": {},
   "outputs": [],
   "source": [
    "# 파일 생성하기 \n",
    "f = open(\"새파일.txt\", \"w\")\n",
    "f.close()\n",
    "\n",
    "# r = 읽기모드\n",
    "# w = 쓰기모드\n",
    "# a = 추가모드: 파일의 마지막에 새로운 내용을 추가"
   ]
  },
  {
   "cell_type": "code",
   "execution_count": 2,
   "metadata": {},
   "outputs": [],
   "source": [
    "# 파일 불러오기\n",
    "f = open(\"새파일.txt\", \"r\")\n",
    "f.close()\n"
   ]
  },
  {
   "cell_type": "code",
   "execution_count": 4,
   "metadata": {},
   "outputs": [],
   "source": [
    "# 파일을 쓰기 모드로 열어서 내용 쓰기\n",
    "f = open(\"./doit/새파일.txt\", \"w\")\n",
    "\n",
    "for i in range(1, 11): \n",
    "    data = f\"{i}번째 줄입니다.\\n\"\n",
    "    f.write(data)\n",
    "\n",
    "f.close()"
   ]
  },
  {
   "cell_type": "code",
   "execution_count": 5,
   "metadata": {},
   "outputs": [
    {
     "name": "stdout",
     "output_type": "stream",
     "text": [
      "1번째 줄입니다.\n",
      "\n"
     ]
    }
   ],
   "source": [
    "# 파일을 여러가지 방법으로 읽기\n",
    "# 1. readline() 이용하기\n",
    "\n",
    "f = open(\"./doit/새파일.txt\", \"r\")\n",
    "\n",
    "line = f.readline()\n",
    "\n",
    "print(line)\n",
    "\n",
    "f.close()"
   ]
  },
  {
   "cell_type": "code",
   "execution_count": 7,
   "metadata": {},
   "outputs": [
    {
     "name": "stdout",
     "output_type": "stream",
     "text": [
      "1번째 줄입니다.\n",
      "2번째 줄입니다.\n",
      "3번째 줄입니다.\n",
      "4번째 줄입니다.\n",
      "5번째 줄입니다.\n",
      "6번째 줄입니다.\n",
      "7번째 줄입니다.\n",
      "8번째 줄입니다.\n",
      "9번째 줄입니다.\n",
      "10번째 줄입니다.\n"
     ]
    }
   ],
   "source": [
    "f = open(\"./doit/새파일.txt\", \"r\")\n",
    "\n",
    "while True: \n",
    "    line = f.readline()\n",
    "\n",
    "    if not line: \n",
    "        break\n",
    "\n",
    "    print(line.strip())\n",
    "\n",
    "f.close()"
   ]
  },
  {
   "cell_type": "code",
   "execution_count": 11,
   "metadata": {},
   "outputs": [
    {
     "name": "stdout",
     "output_type": "stream",
     "text": [
      "1번째 줄입니다.\n",
      "2번째 줄입니다.\n",
      "3번째 줄입니다.\n",
      "4번째 줄입니다.\n",
      "5번째 줄입니다.\n",
      "6번째 줄입니다.\n",
      "7번째 줄입니다.\n",
      "8번째 줄입니다.\n",
      "9번째 줄입니다.\n",
      "10번째 줄입니다.\n"
     ]
    }
   ],
   "source": [
    "# 2. readlines() 함수로 읽어오기 \n",
    "\n",
    "f = open(\"./doit/새파일.txt\", \"r\")\n",
    "\n",
    "lines = f.readlines()\n",
    "\n",
    "# print(lines)\n",
    "# print(len(lines))\n",
    "\n",
    "for line in lines:\n",
    "    print(line.strip())\n",
    "\n",
    "f.close()"
   ]
  },
  {
   "cell_type": "code",
   "execution_count": 12,
   "metadata": {},
   "outputs": [
    {
     "name": "stdout",
     "output_type": "stream",
     "text": [
      "1번째 줄입니다.\n",
      "2번째 줄입니다.\n",
      "3번째 줄입니다.\n",
      "4번째 줄입니다.\n",
      "5번째 줄입니다.\n",
      "6번째 줄입니다.\n",
      "7번째 줄입니다.\n",
      "8번째 줄입니다.\n",
      "9번째 줄입니다.\n",
      "10번째 줄입니다.\n",
      "\n"
     ]
    }
   ],
   "source": [
    "# 3. read() 함수로 가져오기 \n",
    "\n",
    "f = open(\"./doit/새파일.txt\", \"r\")\n",
    "\n",
    "data = f.read()\n",
    "\n",
    "print(data) \n",
    "\n",
    "f.close()"
   ]
  },
  {
   "cell_type": "code",
   "execution_count": 15,
   "metadata": {},
   "outputs": [],
   "source": [
    "### 파일에 새로운 내용 추가하기 \n",
    "\n",
    "f = open(\"./doit/새파일.txt\", \"a\")\n",
    "\n",
    "# f.write(\"11번재 줄입니다.\")\n",
    "\n",
    "for i in range(20, 31): \n",
    "    f.write(f\"{i}번재 줄입니다.\\n\")\n",
    "\n",
    "f.close()"
   ]
  },
  {
   "cell_type": "code",
   "execution_count": 16,
   "metadata": {},
   "outputs": [
    {
     "name": "stdout",
     "output_type": "stream",
     "text": [
      "1번째 줄입니다.\n",
      "2번째 줄입니다.\n",
      "3번째 줄입니다.\n",
      "4번째 줄입니다.\n",
      "5번째 줄입니다.\n",
      "6번째 줄입니다.\n",
      "7번째 줄입니다.\n",
      "8번째 줄입니다.\n",
      "9번째 줄입니다.\n",
      "10번째 줄입니다.\n",
      "11번재 줄입니다.12번재 줄입니다.13번재 줄입니다.14번재 줄입니다.15번재 줄입니다.16번재 줄입니다.17번재 줄입니다.18번재 줄입니다.19번재 줄입니다.20번재 줄입니다.20번재 줄입니다.\n",
      "21번재 줄입니다.\n",
      "22번재 줄입니다.\n",
      "23번재 줄입니다.\n",
      "24번재 줄입니다.\n",
      "25번재 줄입니다.\n",
      "26번재 줄입니다.\n",
      "27번재 줄입니다.\n",
      "28번재 줄입니다.\n",
      "29번재 줄입니다.\n",
      "30번재 줄입니다.\n",
      "\n"
     ]
    }
   ],
   "source": [
    "# with문과 함께 사용하기 \n",
    "\n",
    "with open(\"./doit/새파일.txt\", \"r\") as f:\n",
    "    data = f.read()\n",
    "    print(data)\n",
    "\n"
   ]
  },
  {
   "cell_type": "code",
   "execution_count": null,
   "metadata": {},
   "outputs": [],
   "source": []
  }
 ],
 "metadata": {
  "kernelspec": {
   "display_name": "Python 3",
   "language": "python",
   "name": "python3"
  },
  "language_info": {
   "codemirror_mode": {
    "name": "ipython",
    "version": 3
   },
   "file_extension": ".py",
   "mimetype": "text/x-python",
   "name": "python",
   "nbconvert_exporter": "python",
   "pygments_lexer": "ipython3",
   "version": "3.13.1"
  }
 },
 "nbformat": 4,
 "nbformat_minor": 2
}
