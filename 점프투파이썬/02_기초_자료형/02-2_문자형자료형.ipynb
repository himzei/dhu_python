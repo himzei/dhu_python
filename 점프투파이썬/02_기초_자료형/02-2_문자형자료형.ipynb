{
 "cells": [
  {
   "cell_type": "code",
   "execution_count": 2,
   "metadata": {},
   "outputs": [
    {
     "name": "stdout",
     "output_type": "stream",
     "text": [
      "Hello World\n"
     ]
    }
   ],
   "source": [
    "# 큰따옴표\n",
    "a = \"Hello World\"\n",
    "print(a)"
   ]
  },
  {
   "cell_type": "code",
   "execution_count": 3,
   "metadata": {},
   "outputs": [
    {
     "data": {
      "text/plain": [
       "'Python is fun'"
      ]
     },
     "execution_count": 3,
     "metadata": {},
     "output_type": "execute_result"
    }
   ],
   "source": [
    "# 작은따옴표\n",
    "b = 'Python is fun'\n",
    "b"
   ]
  },
  {
   "cell_type": "code",
   "execution_count": 6,
   "metadata": {},
   "outputs": [
    {
     "name": "stdout",
     "output_type": "stream",
     "text": [
      "Life is too short, You need python\n",
      "Life is too short, You need python\n"
     ]
    }
   ],
   "source": [
    "c = \"\"\"Life is too short, You need python\"\"\"\n",
    "d = '''Life is too short, You need python'''\n",
    "print(c)\n",
    "print(d)\n"
   ]
  },
  {
   "cell_type": "code",
   "execution_count": 9,
   "metadata": {},
   "outputs": [
    {
     "data": {
      "text/plain": [
       "\"I'm a student\""
      ]
     },
     "execution_count": 9,
     "metadata": {},
     "output_type": "execute_result"
    }
   ],
   "source": [
    "a= \"I'm a student\"\n",
    "a"
   ]
  },
  {
   "cell_type": "code",
   "execution_count": 10,
   "metadata": {},
   "outputs": [
    {
     "data": {
      "text/plain": [
       "'he says \"she is beautiful\"'"
      ]
     },
     "execution_count": 10,
     "metadata": {},
     "output_type": "execute_result"
    }
   ],
   "source": [
    "b = 'he says \"she is beautiful\"'\n",
    "b"
   ]
  },
  {
   "cell_type": "code",
   "execution_count": 11,
   "metadata": {},
   "outputs": [
    {
     "data": {
      "text/plain": [
       "'life is too short\\nyou need pyhton '"
      ]
     },
     "execution_count": 11,
     "metadata": {},
     "output_type": "execute_result"
    }
   ],
   "source": [
    "c = \"\"\"life is too short\n",
    "you need pyhton \"\"\"\n",
    "c"
   ]
  },
  {
   "cell_type": "code",
   "execution_count": 12,
   "metadata": {},
   "outputs": [
    {
     "data": {
      "text/plain": [
       "'python is fun'"
      ]
     },
     "execution_count": 12,
     "metadata": {},
     "output_type": "execute_result"
    }
   ],
   "source": [
    "# 문자열 더하기, 곱하기\n",
    "\n",
    "a = \"python\"\n",
    "b = \" is fun\"\n",
    "a + b"
   ]
  },
  {
   "cell_type": "code",
   "execution_count": 14,
   "metadata": {},
   "outputs": [
    {
     "data": {
      "text/plain": [
       "'pythonpythonpythonpythonpython'"
      ]
     },
     "execution_count": 14,
     "metadata": {},
     "output_type": "execute_result"
    }
   ],
   "source": [
    "a * 5"
   ]
  },
  {
   "cell_type": "code",
   "execution_count": 16,
   "metadata": {},
   "outputs": [
    {
     "data": {
      "text/plain": [
       "6"
      ]
     },
     "execution_count": 16,
     "metadata": {},
     "output_type": "execute_result"
    }
   ],
   "source": [
    "# 문자열 길이 구하기 \n",
    "len(a)"
   ]
  },
  {
   "cell_type": "code",
   "execution_count": 22,
   "metadata": {},
   "outputs": [
    {
     "name": "stdout",
     "output_type": "stream",
     "text": [
      "p\n",
      "y\n",
      "t\n",
      "h\n",
      "o\n",
      "n\n",
      "n\n",
      "o\n"
     ]
    }
   ],
   "source": [
    "# 문자열 인덱싱\n",
    "\n",
    "a = \"python\"\n",
    "print(a[0])\n",
    "print(a[1])\n",
    "print(a[2])\n",
    "print(a[3])\n",
    "print(a[4])\n",
    "print(a[5])\n",
    "\n",
    "print(a[-1])\n",
    "print(a[-2])\n"
   ]
  },
  {
   "cell_type": "code",
   "execution_count": 30,
   "metadata": {},
   "outputs": [
    {
     "name": "stdout",
     "output_type": "stream",
     "text": [
      "life\n",
      "life\n",
      "python\n",
      "pytho\n",
      "python\n",
      "life is\n",
      "life is too short, you need python\n"
     ]
    }
   ],
   "source": [
    "# 문자열 슬라이싱\n",
    "a = \"life is too short, you need python\"\n",
    "\n",
    "print(a[0]+a[1]+a[2]+a[3])\n",
    "print(a[0:4])\n",
    "print(a[28:34])\n",
    "print(a[-6:-1])\n",
    "print(a[-6:])\n",
    "print(a[:7])\n",
    "print(a[:])\n"
   ]
  },
  {
   "cell_type": "code",
   "execution_count": 32,
   "metadata": {},
   "outputs": [
    {
     "ename": "TypeError",
     "evalue": "'str' object does not support item assignment",
     "output_type": "error",
     "traceback": [
      "\u001b[1;31m---------------------------------------------------------------------------\u001b[0m",
      "\u001b[1;31mTypeError\u001b[0m                                 Traceback (most recent call last)",
      "Cell \u001b[1;32mIn[32], line 3\u001b[0m\n\u001b[0;32m      1\u001b[0m a \u001b[38;5;241m=\u001b[39m \u001b[38;5;124m\"\u001b[39m\u001b[38;5;124mpython\u001b[39m\u001b[38;5;124m\"\u001b[39m\n\u001b[1;32m----> 3\u001b[0m \u001b[43ma\u001b[49m\u001b[43m[\u001b[49m\u001b[38;5;241;43m0\u001b[39;49m\u001b[43m]\u001b[49m \u001b[38;5;241m=\u001b[39m \u001b[38;5;124m\"\u001b[39m\u001b[38;5;124mu\u001b[39m\u001b[38;5;124m\"\u001b[39m\n\u001b[0;32m      4\u001b[0m a\n",
      "\u001b[1;31mTypeError\u001b[0m: 'str' object does not support item assignment"
     ]
    }
   ],
   "source": [
    "a = \"python\"\n",
    "\n",
    "a[0] = \"u\"\n",
    "a"
   ]
  },
  {
   "cell_type": "code",
   "execution_count": 37,
   "metadata": {},
   "outputs": [
    {
     "data": {
      "text/plain": [
       "'I eat hello apples'"
      ]
     },
     "execution_count": 37,
     "metadata": {},
     "output_type": "execute_result"
    }
   ],
   "source": [
    "# 문자열 포매팅\n",
    "\n",
    "# 1\n",
    "\"I eat %s apples\" % \"hello\""
   ]
  },
  {
   "cell_type": "code",
   "execution_count": 40,
   "metadata": {},
   "outputs": [
    {
     "data": {
      "text/plain": [
       "'I ate 10 apples, so I was sick for three days'"
      ]
     },
     "execution_count": 40,
     "metadata": {},
     "output_type": "execute_result"
    }
   ],
   "source": [
    "# 2\n",
    "\"I eat {0} apples\".format(5)\n",
    "\n",
    "\"I ate {0} apples, so I was sick for {1} days\".format(10, \"three\")"
   ]
  },
  {
   "cell_type": "code",
   "execution_count": 46,
   "metadata": {},
   "outputs": [
    {
     "name": "stdout",
     "output_type": "stream",
     "text": [
      "나의 이름은 홍길동이고, 나이는 30입니다.\n",
      "나의 이름은 홍길동 이고, 나이는 입니다.\n",
      "나의 이름은 홍길동이고 나이는 30입니다.\n"
     ]
    }
   ],
   "source": [
    "# 3.\n",
    "name = \"홍길동\"\n",
    "age = 30\n",
    "\n",
    "print(f\"나의 이름은 {name}이고, 나이는 {age}입니다.\")\n",
    "print(\"나의 이름은 %s 이고, 나이는 입니다.\" % name )\n",
    "print(\"나의 이름은 {0}이고 나이는 {1}입니다.\".format(name, age))"
   ]
  },
  {
   "cell_type": "code",
   "execution_count": 61,
   "metadata": {},
   "outputs": [
    {
     "name": "stdout",
     "output_type": "stream",
     "text": [
      "2\n",
      "1\n",
      "14\n",
      "-1\n",
      "p,y,t,h,o,n\n",
      "PYTHON\n",
      "PYTHON\n",
      "python\n",
      "     hi     \n",
      "hi     \n",
      "     hi\n",
      "hi\n",
      "your leg is too short\n",
      "['Life', 'is', 'too', 'short']\n"
     ]
    }
   ],
   "source": [
    "### 문자열 관련 함수들\n",
    "\n",
    "# count\n",
    "a = \"hobby\" \n",
    "print(a.count(\"b\"))\n",
    "print(a.count(\"h\"))\n",
    "\n",
    "\n",
    "# find\n",
    "a = \"python is the best choice\"\n",
    "print(a.find(\"b\"))\n",
    "print(a.find(\"k\"))\n",
    "\n",
    "# join\n",
    "a = \",\".join(\"python\")\n",
    "print(a)\n",
    "\n",
    "# upper\n",
    "a = \"python\"\n",
    "a = a.upper()\n",
    "print(a)\n",
    "\n",
    "# lower \n",
    "print(a)\n",
    "a = a.lower()\n",
    "print(a)\n",
    "\n",
    "# strip\n",
    "a = \"     hi     \"\n",
    "print(a)\n",
    "print(a.lstrip())\n",
    "print(a.rstrip())\n",
    "print(a.strip())\n",
    "\n",
    "# replace \n",
    "a = \"Life is too short\"\n",
    "a = a.replace(\"Life\", \"your leg\")\n",
    "print(a)\n",
    "\n",
    "# split\n",
    "a = \"Life is too short\"\n",
    "a = a.split()\n",
    "print(a)\n",
    "\n",
    "\n"
   ]
  },
  {
   "cell_type": "code",
   "execution_count": null,
   "metadata": {},
   "outputs": [],
   "source": []
  }
 ],
 "metadata": {
  "kernelspec": {
   "display_name": "Python 3",
   "language": "python",
   "name": "python3"
  },
  "language_info": {
   "codemirror_mode": {
    "name": "ipython",
    "version": 3
   },
   "file_extension": ".py",
   "mimetype": "text/x-python",
   "name": "python",
   "nbconvert_exporter": "python",
   "pygments_lexer": "ipython3",
   "version": "3.13.1"
  }
 },
 "nbformat": 4,
 "nbformat_minor": 2
}
