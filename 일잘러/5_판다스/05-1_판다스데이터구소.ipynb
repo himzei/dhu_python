{
 "cells": [
  {
   "cell_type": "code",
   "execution_count": 2,
   "metadata": {},
   "outputs": [],
   "source": [
    "import pandas as pd"
   ]
  },
  {
   "cell_type": "code",
   "execution_count": 5,
   "metadata": {},
   "outputs": [
    {
     "name": "stdout",
     "output_type": "stream",
     "text": [
      "<class 'list'>\n",
      "   이름  나이 거주지\n",
      "0  소라  25  인천\n",
      "1  청춘  30  순천\n",
      "2  영미  35  동해\n",
      "<class 'pandas.core.frame.DataFrame'>\n"
     ]
    }
   ],
   "source": [
    "data_list = [\n",
    "    [\"소라\", 25, \"인천\"],\n",
    "    [\"청춘\", 30, \"순천\"],\n",
    "    [\"영미\", 35, \"동해\"],\n",
    "]\n",
    "print(type(data_list))\n",
    "\n",
    "columns = [\"이름\", \"나이\", \"거주지\"]\n",
    "\n",
    "df = pd.DataFrame(data_list, columns=columns)\n",
    "\n",
    "print(df)\n",
    "print(type(df))"
   ]
  },
  {
   "cell_type": "code",
   "execution_count": 7,
   "metadata": {},
   "outputs": [
    {
     "name": "stdout",
     "output_type": "stream",
     "text": [
      "           날짜  제품명  판매량    단가    총판매액\n",
      "0  2023-01-01  제품A  100  1200  120000\n",
      "1  2023-01-02  제품B  150  1500  225000\n",
      "2  2023-01-03  제품C  200  1300  260000\n",
      "3  2023-01-04  제품D  170  1600  272000\n",
      "<class 'pandas.core.frame.DataFrame'>\n"
     ]
    }
   ],
   "source": [
    "# 02 파일을 데이터 프레임으로 가져오기 \n",
    "\n",
    "import pandas as pd\n",
    "\n",
    "df = pd.read_excel(\"sales_data.xlsx\")\n",
    "print(df)\n",
    "print(type(df))"
   ]
  },
  {
   "cell_type": "code",
   "execution_count": 10,
   "metadata": {},
   "outputs": [
    {
     "data": {
      "text/html": [
       "<div>\n",
       "<style scoped>\n",
       "    .dataframe tbody tr th:only-of-type {\n",
       "        vertical-align: middle;\n",
       "    }\n",
       "\n",
       "    .dataframe tbody tr th {\n",
       "        vertical-align: top;\n",
       "    }\n",
       "\n",
       "    .dataframe thead th {\n",
       "        text-align: right;\n",
       "    }\n",
       "</style>\n",
       "<table border=\"1\" class=\"dataframe\">\n",
       "  <thead>\n",
       "    <tr style=\"text-align: right;\">\n",
       "      <th></th>\n",
       "      <th>도서ID</th>\n",
       "      <th>도서명</th>\n",
       "      <th>저자</th>\n",
       "      <th>출판년도</th>\n",
       "    </tr>\n",
       "  </thead>\n",
       "  <tbody>\n",
       "    <tr>\n",
       "      <th>0</th>\n",
       "      <td>1</td>\n",
       "      <td>파이썬 프로그래밍</td>\n",
       "      <td>김파이썬</td>\n",
       "      <td>2019</td>\n",
       "    </tr>\n",
       "    <tr>\n",
       "      <th>1</th>\n",
       "      <td>2</td>\n",
       "      <td>데이터분석</td>\n",
       "      <td>이데이터</td>\n",
       "      <td>2019</td>\n",
       "    </tr>\n",
       "    <tr>\n",
       "      <th>2</th>\n",
       "      <td>3</td>\n",
       "      <td>머신러닝 입문</td>\n",
       "      <td>김파이썬</td>\n",
       "      <td>2018</td>\n",
       "    </tr>\n",
       "    <tr>\n",
       "      <th>3</th>\n",
       "      <td>4</td>\n",
       "      <td>인공지능의 이해</td>\n",
       "      <td>김파이썬</td>\n",
       "      <td>2021</td>\n",
       "    </tr>\n",
       "  </tbody>\n",
       "</table>\n",
       "</div>"
      ],
      "text/plain": [
       "   도서ID        도서명    저자  출판년도\n",
       "0     1  파이썬 프로그래밍  김파이썬  2019\n",
       "1     2      데이터분석  이데이터  2019\n",
       "2     3    머신러닝 입문  김파이썬  2018\n",
       "3     4   인공지능의 이해  김파이썬  2021"
      ]
     },
     "execution_count": 10,
     "metadata": {},
     "output_type": "execute_result"
    }
   ],
   "source": [
    "# 03 데이터프레임을 파일로 저장하기 \n",
    "\n",
    "import pandas as pd\n",
    "\n",
    "data = [\n",
    "    [1, \"파이썬 프로그래밍\", \"김파이썬\", 2019],\n",
    "    [2, \"데이터분석\", \"이데이터\", 2019],\n",
    "    [3, \"머신러닝 입문\", \"김파이썬\", 2018],\n",
    "    [4, \"인공지능의 이해\", \"김파이썬\", 2021],\n",
    "]\n",
    "columns = [\"도서ID\", \"도서명\", \"저자\", \"출판년도\"]\n",
    "books_df = pd.DataFrame(data, columns=columns)\n",
    "\n",
    "books_df.to_excel(\"도서_데이터.xlsx\")\n",
    "books_df"
   ]
  },
  {
   "cell_type": "code",
   "execution_count": 14,
   "metadata": {},
   "outputs": [
    {
     "name": "stdout",
     "output_type": "stream",
     "text": [
      "(3, 3)\n",
      "Index(['이름', '나이', '거주지'], dtype='object')\n",
      "3\n"
     ]
    }
   ],
   "source": [
    "# shape, columns 속성으로 데이터 정보 파악\n",
    "\n",
    "import pandas as pd\n",
    "\n",
    "data_list = [\n",
    "    [\"소라\", 25, \"인천\"],\n",
    "    [\"청춘\", 30, \"순천\"],\n",
    "    [\"영미\", 35, \"동해\"],\n",
    "]\n",
    "columns = [\"이름\", \"나이\", \"거주지\"]\n",
    "df = pd.DataFrame(data_list, columns=columns)\n",
    "\n",
    "print(df.shape)\n",
    "print(df.columns)\n",
    "print(len(df.columns))\n",
    "\n"
   ]
  },
  {
   "cell_type": "code",
   "execution_count": 17,
   "metadata": {},
   "outputs": [
    {
     "name": "stdout",
     "output_type": "stream",
     "text": [
      "(9, 3)\n",
      "   이름  나이 거주지\n",
      "0  소라  25  인천\n",
      "1  청춘  30  순천\n",
      "2  영미  35  동해\n",
      "3  소라  25  인천\n",
      "4  청춘  30  순천\n",
      "   이름  나이 거주지\n",
      "4  청춘  30  순천\n",
      "5  영미  35  동해\n",
      "6  소라  25  인천\n",
      "7  청춘  30  순천\n",
      "8  영미  35  동해\n"
     ]
    }
   ],
   "source": [
    "# head(), tail() 데이터 엿보기\n",
    "\n",
    "import pandas as pd\n",
    "\n",
    "data_list = [\n",
    "    [\"소라\", 25, \"인천\"],\n",
    "    [\"청춘\", 30, \"순천\"],\n",
    "    [\"영미\", 35, \"동해\"],\n",
    "    [\"소라\", 25, \"인천\"],\n",
    "    [\"청춘\", 30, \"순천\"],\n",
    "    [\"영미\", 35, \"동해\"],\n",
    "    [\"소라\", 25, \"인천\"],\n",
    "    [\"청춘\", 30, \"순천\"],\n",
    "    [\"영미\", 35, \"동해\"],\n",
    "]\n",
    "columns = [\"이름\", \"나이\", \"거주지\"]\n",
    "df = pd.DataFrame(data_list, columns=columns)\n",
    "print(df.shape)\n",
    "\n",
    "print(df.head())\n",
    "print(df.tail())\n",
    "\n"
   ]
  },
  {
   "cell_type": "code",
   "execution_count": 19,
   "metadata": {},
   "outputs": [
    {
     "name": "stdout",
     "output_type": "stream",
     "text": [
      "   이름  나이 거주지\n",
      "0  소라  25  인천\n",
      "1  청춘  30  순천\n",
      "   이름  나이 거주지\n",
      "7  청춘  30  순천\n",
      "8  영미  35  동해\n"
     ]
    }
   ],
   "source": [
    "print(df.head(2))\n",
    "print(df.tail(2))"
   ]
  },
  {
   "cell_type": "code",
   "execution_count": 22,
   "metadata": {},
   "outputs": [
    {
     "name": "stdout",
     "output_type": "stream",
     "text": [
      "<class 'pandas.core.series.Series'>\n",
      "0    인천\n",
      "1    순천\n",
      "2    동해\n",
      "3    인천\n",
      "4    순천\n",
      "5    동해\n",
      "6    인천\n",
      "7    순천\n",
      "8    동해\n",
      "Name: 도시, dtype: object\n"
     ]
    }
   ],
   "source": [
    "# 열 이름 또는 인덱스로 데이터 선택하기 \n",
    "\n",
    "data_list = [\n",
    "    [\"소라\", 25, \"인천\"],\n",
    "    [\"청춘\", 30, \"순천\"],\n",
    "    [\"영미\", 35, \"동해\"],\n",
    "    [\"소라\", 25, \"인천\"],\n",
    "    [\"청춘\", 30, \"순천\"],\n",
    "    [\"영미\", 35, \"동해\"],\n",
    "    [\"소라\", 25, \"인천\"],\n",
    "    [\"청춘\", 30, \"순천\"],\n",
    "    [\"영미\", 35, \"동해\"],\n",
    "]\n",
    "columns = [\"이름\", \"나이\", \"도시\"]\n",
    "df = pd.DataFrame(data_list, columns=columns)\n",
    "\n",
    "column_data = df[\"도시\"]\n",
    "print(type(column_data))\n",
    "print(column_data)"
   ]
  },
  {
   "cell_type": "code",
   "execution_count": 25,
   "metadata": {},
   "outputs": [
    {
     "name": "stdout",
     "output_type": "stream",
     "text": [
      "<class 'pandas.core.frame.DataFrame'>\n",
      "   도시  이름\n",
      "0  인천  소라\n",
      "1  순천  청춘\n",
      "2  동해  영미\n",
      "3  인천  소라\n",
      "4  순천  청춘\n",
      "5  동해  영미\n",
      "6  인천  소라\n",
      "7  순천  청춘\n",
      "8  동해  영미\n"
     ]
    }
   ],
   "source": [
    "selected_columns = df[[\"도시\", \"이름\"]]\n",
    "print(type(selected_columns))\n",
    "print(selected_columns)"
   ]
  },
  {
   "cell_type": "code",
   "execution_count": 26,
   "metadata": {},
   "outputs": [
    {
     "name": "stdout",
     "output_type": "stream",
     "text": [
      "   이름  나이  도시\n",
      "0  소라  25  인천\n",
      "1  청춘  30  순천\n",
      "2  영미  35  동해\n",
      "3  소라  25  인천\n",
      "4  청춘  30  순천\n",
      "5  영미  35  동해\n",
      "6  소라  25  인천\n",
      "7  청춘  30  순천\n",
      "8  영미  35  동해\n"
     ]
    }
   ],
   "source": [
    "# 행선택하기\n",
    "\n",
    "import pandas as pd \n",
    "data_list = [\n",
    "    [\"소라\", 25, \"인천\"],\n",
    "    [\"청춘\", 30, \"순천\"],\n",
    "    [\"영미\", 35, \"동해\"],\n",
    "    [\"소라\", 25, \"인천\"],\n",
    "    [\"청춘\", 30, \"순천\"],\n",
    "    [\"영미\", 35, \"동해\"],\n",
    "    [\"소라\", 25, \"인천\"],\n",
    "    [\"청춘\", 30, \"순천\"],\n",
    "    [\"영미\", 35, \"동해\"],\n",
    "]\n",
    "columns = [\"이름\", \"나이\", \"도시\"]\n",
    "df = pd.DataFrame(data_list, columns=columns)\n",
    "print(df)"
   ]
  },
  {
   "cell_type": "code",
   "execution_count": 28,
   "metadata": {},
   "outputs": [
    {
     "name": "stdout",
     "output_type": "stream",
     "text": [
      "이름    소라\n",
      "나이    25\n",
      "도시    인천\n",
      "Name: 0, dtype: object\n",
      "<class 'pandas.core.series.Series'>\n"
     ]
    }
   ],
   "source": [
    "row = df.loc[0]\n",
    "print(row)\n",
    "print(type(row))"
   ]
  },
  {
   "cell_type": "code",
   "execution_count": 30,
   "metadata": {},
   "outputs": [
    {
     "name": "stdout",
     "output_type": "stream",
     "text": [
      "   이름  나이  도시\n",
      "0  소라  25  인천\n",
      "2  영미  35  동해\n",
      "<class 'pandas.core.frame.DataFrame'>\n"
     ]
    }
   ],
   "source": [
    "# 인덱싱\n",
    "selected_rows1 = df.loc[[0, 2]]\n",
    "print(selected_rows1)\n",
    "print(type(selected_rows1))"
   ]
  },
  {
   "cell_type": "code",
   "execution_count": 32,
   "metadata": {},
   "outputs": [
    {
     "name": "stdout",
     "output_type": "stream",
     "text": [
      "   이름  나이  도시\n",
      "1  청춘  30  순천\n",
      "2  영미  35  동해\n",
      "3  소라  25  인천\n",
      "4  청춘  30  순천\n"
     ]
    }
   ],
   "source": [
    "# 슬라이싱\n",
    "selected_rows2 = df.loc[1:4]\n",
    "print(selected_rows2)"
   ]
  },
  {
   "cell_type": "code",
   "execution_count": 36,
   "metadata": {},
   "outputs": [
    {
     "name": "stdout",
     "output_type": "stream",
     "text": [
      "1    순천\n",
      "2    동해\n",
      "3    인천\n",
      "4    순천\n",
      "Name: 도시, dtype: object\n"
     ]
    }
   ],
   "source": [
    "selected_columns = df.loc[1:4, \"도시\"]\n",
    "\n",
    "print(selected_columns)"
   ]
  },
  {
   "cell_type": "code",
   "execution_count": 37,
   "metadata": {},
   "outputs": [
    {
     "name": "stdout",
     "output_type": "stream",
     "text": [
      "   도시  이름\n",
      "0  인천  소라\n",
      "1  순천  청춘\n",
      "2  동해  영미\n",
      "3  인천  소라\n",
      "4  순천  청춘\n",
      "5  동해  영미\n",
      "6  인천  소라\n",
      "7  순천  청춘\n",
      "8  동해  영미\n"
     ]
    }
   ],
   "source": [
    "selected_columns1 = df.loc[:, [\"도시\", \"이름\"]]\n",
    "print(selected_columns1)"
   ]
  },
  {
   "cell_type": "code",
   "execution_count": 38,
   "metadata": {},
   "outputs": [
    {
     "name": "stdout",
     "output_type": "stream",
     "text": [
      "   나이  도시\n",
      "1  30  순천\n",
      "2  35  동해\n",
      "3  25  인천\n",
      "4  30  순천\n",
      "5  35  동해\n"
     ]
    }
   ],
   "source": [
    "selected_columns2 = df.loc[1:5, \"나이\":\"도시\"]\n",
    "print(selected_columns2)"
   ]
  },
  {
   "cell_type": "code",
   "execution_count": 39,
   "metadata": {},
   "outputs": [
    {
     "name": "stdout",
     "output_type": "stream",
     "text": [
      "소라\n"
     ]
    }
   ],
   "source": [
    "selected_value = df.loc[0, \"이름\"]\n",
    "print(selected_value)"
   ]
  },
  {
   "cell_type": "code",
   "execution_count": 40,
   "metadata": {},
   "outputs": [
    {
     "name": "stdout",
     "output_type": "stream",
     "text": [
      "   이름  나이  도시\n",
      "0  소라  25  인천\n",
      "1  청춘  30  순천\n",
      "2  영미  35  동해\n",
      "3  소라  25  인천\n",
      "4  청춘  30  순천\n",
      "5  영미  35  동해\n",
      "6  소라  25  인천\n",
      "7  청춘  30  순천\n",
      "8  영미  35  동해\n"
     ]
    }
   ],
   "source": [
    "# iloc[]\n",
    "\n",
    "import pandas as pd \n",
    "data_list = [\n",
    "    [\"소라\", 25, \"인천\"],\n",
    "    [\"청춘\", 30, \"순천\"],\n",
    "    [\"영미\", 35, \"동해\"],\n",
    "    [\"소라\", 25, \"인천\"],\n",
    "    [\"청춘\", 30, \"순천\"],\n",
    "    [\"영미\", 35, \"동해\"],\n",
    "    [\"소라\", 25, \"인천\"],\n",
    "    [\"청춘\", 30, \"순천\"],\n",
    "    [\"영미\", 35, \"동해\"],\n",
    "]\n",
    "columns = [\"이름\", \"나이\", \"도시\"]\n",
    "df = pd.DataFrame(data_list, columns=columns)\n",
    "print(df)\n",
    "\n"
   ]
  },
  {
   "cell_type": "code",
   "execution_count": 41,
   "metadata": {},
   "outputs": [
    {
     "name": "stdout",
     "output_type": "stream",
     "text": [
      "이름    소라\n",
      "나이    25\n",
      "도시    인천\n",
      "Name: 0, dtype: object\n",
      "이름    소라\n",
      "나이    25\n",
      "도시    인천\n",
      "Name: 0, dtype: object\n"
     ]
    }
   ],
   "source": [
    "row1= df.iloc[0]\n",
    "row2= df.loc[0]\n",
    "\n",
    "\n",
    "print(row1)\n",
    "print(row2)"
   ]
  },
  {
   "cell_type": "code",
   "execution_count": 42,
   "metadata": {},
   "outputs": [
    {
     "data": {
      "text/plain": [
       "0    25\n",
       "1    30\n",
       "2    35\n",
       "3    25\n",
       "4    30\n",
       "5    35\n",
       "6    25\n",
       "7    30\n",
       "8    35\n",
       "Name: 나이, dtype: int64"
      ]
     },
     "execution_count": 42,
     "metadata": {},
     "output_type": "execute_result"
    }
   ],
   "source": [
    "df.iloc[:, 1]"
   ]
  },
  {
   "cell_type": "code",
   "execution_count": 43,
   "metadata": {},
   "outputs": [
    {
     "name": "stdout",
     "output_type": "stream",
     "text": [
      "0    인천\n",
      "1    순천\n",
      "2    동해\n",
      "3    인천\n",
      "4    순천\n",
      "5    동해\n",
      "6    인천\n",
      "7    순천\n",
      "8    동해\n",
      "Name: 도시, dtype: object\n"
     ]
    }
   ],
   "source": [
    "last_column = df.iloc[:, -1]\n",
    "print(last_column)"
   ]
  },
  {
   "cell_type": "code",
   "execution_count": 45,
   "metadata": {},
   "outputs": [
    {
     "name": "stdout",
     "output_type": "stream",
     "text": [
      "   이름  나이  도시\n",
      "0  소라  25  인천\n",
      "1  청춘  30  순천\n",
      "   이름  나이  도시\n",
      "0  소라  25  인천\n",
      "1  청춘  30  순천\n",
      "2  영미  35  동해\n"
     ]
    }
   ],
   "source": [
    "rows_iloc1 = df.iloc[0:2]\n",
    "rows_iloc2 = df.loc[0:2]\n",
    "\n",
    "print(rows_iloc1)\n",
    "print(rows_iloc2)"
   ]
  },
  {
   "cell_type": "code",
   "execution_count": 46,
   "metadata": {},
   "outputs": [
    {
     "data": {
      "text/html": [
       "<div>\n",
       "<style scoped>\n",
       "    .dataframe tbody tr th:only-of-type {\n",
       "        vertical-align: middle;\n",
       "    }\n",
       "\n",
       "    .dataframe tbody tr th {\n",
       "        vertical-align: top;\n",
       "    }\n",
       "\n",
       "    .dataframe thead th {\n",
       "        text-align: right;\n",
       "    }\n",
       "</style>\n",
       "<table border=\"1\" class=\"dataframe\">\n",
       "  <thead>\n",
       "    <tr style=\"text-align: right;\">\n",
       "      <th></th>\n",
       "      <th>나이</th>\n",
       "    </tr>\n",
       "  </thead>\n",
       "  <tbody>\n",
       "    <tr>\n",
       "      <th>0</th>\n",
       "      <td>25</td>\n",
       "    </tr>\n",
       "    <tr>\n",
       "      <th>1</th>\n",
       "      <td>30</td>\n",
       "    </tr>\n",
       "    <tr>\n",
       "      <th>2</th>\n",
       "      <td>35</td>\n",
       "    </tr>\n",
       "    <tr>\n",
       "      <th>3</th>\n",
       "      <td>25</td>\n",
       "    </tr>\n",
       "    <tr>\n",
       "      <th>4</th>\n",
       "      <td>30</td>\n",
       "    </tr>\n",
       "    <tr>\n",
       "      <th>5</th>\n",
       "      <td>35</td>\n",
       "    </tr>\n",
       "    <tr>\n",
       "      <th>6</th>\n",
       "      <td>25</td>\n",
       "    </tr>\n",
       "    <tr>\n",
       "      <th>7</th>\n",
       "      <td>30</td>\n",
       "    </tr>\n",
       "    <tr>\n",
       "      <th>8</th>\n",
       "      <td>35</td>\n",
       "    </tr>\n",
       "  </tbody>\n",
       "</table>\n",
       "</div>"
      ],
      "text/plain": [
       "   나이\n",
       "0  25\n",
       "1  30\n",
       "2  35\n",
       "3  25\n",
       "4  30\n",
       "5  35\n",
       "6  25\n",
       "7  30\n",
       "8  35"
      ]
     },
     "execution_count": 46,
     "metadata": {},
     "output_type": "execute_result"
    }
   ],
   "source": [
    "df.iloc[:, 1:2]"
   ]
  },
  {
   "cell_type": "code",
   "execution_count": 47,
   "metadata": {},
   "outputs": [
    {
     "name": "stdout",
     "output_type": "stream",
     "text": [
      "   이름  나이  도시\n",
      "0  소라  25  인천\n",
      "2  영미  35  동해\n"
     ]
    }
   ],
   "source": [
    "rows_list = df.iloc[[0, 2]]\n",
    "print(rows_list)"
   ]
  },
  {
   "cell_type": "code",
   "execution_count": 48,
   "metadata": {},
   "outputs": [
    {
     "name": "stdout",
     "output_type": "stream",
     "text": [
      "   이름  도시\n",
      "0  소라  인천\n",
      "1  청춘  순천\n",
      "2  영미  동해\n",
      "3  소라  인천\n",
      "4  청춘  순천\n",
      "5  영미  동해\n",
      "6  소라  인천\n",
      "7  청춘  순천\n",
      "8  영미  동해\n"
     ]
    }
   ],
   "source": [
    "columns_list = df.iloc[:, [0, 2]]\n",
    "print(columns_list)"
   ]
  },
  {
   "cell_type": "code",
   "execution_count": 49,
   "metadata": {},
   "outputs": [
    {
     "name": "stdout",
     "output_type": "stream",
     "text": [
      "   이름  나이  도시\n",
      "0  소라  25  인천\n",
      "1  청춘  30  순천\n"
     ]
    }
   ],
   "source": [
    "# 슬라이싱\n",
    "\n",
    "selected_rows = df[0:2]\n",
    "print(selected_rows)"
   ]
  },
  {
   "cell_type": "code",
   "execution_count": 50,
   "metadata": {},
   "outputs": [
    {
     "name": "stdout",
     "output_type": "stream",
     "text": [
      "   이름  나이  도시\n",
      "0  소라  25  인천\n",
      "1  청춘  30  순천\n",
      "2  영미  35  동해\n",
      "3  소라  25  인천\n",
      "4  청춘  30  순천\n",
      "5  영미  35  동해\n",
      "6  소라  25  인천\n",
      "7  청춘  30  순천\n",
      "8  영미  35  동해\n"
     ]
    }
   ],
   "source": [
    "## 조건으로 특정데이터 필터링\n",
    "print(df)"
   ]
  },
  {
   "cell_type": "code",
   "execution_count": 51,
   "metadata": {},
   "outputs": [
    {
     "data": {
      "text/html": [
       "<div>\n",
       "<style scoped>\n",
       "    .dataframe tbody tr th:only-of-type {\n",
       "        vertical-align: middle;\n",
       "    }\n",
       "\n",
       "    .dataframe tbody tr th {\n",
       "        vertical-align: top;\n",
       "    }\n",
       "\n",
       "    .dataframe thead th {\n",
       "        text-align: right;\n",
       "    }\n",
       "</style>\n",
       "<table border=\"1\" class=\"dataframe\">\n",
       "  <thead>\n",
       "    <tr style=\"text-align: right;\">\n",
       "      <th></th>\n",
       "      <th>이름</th>\n",
       "      <th>나이</th>\n",
       "      <th>도시</th>\n",
       "    </tr>\n",
       "  </thead>\n",
       "  <tbody>\n",
       "    <tr>\n",
       "      <th>1</th>\n",
       "      <td>청춘</td>\n",
       "      <td>30</td>\n",
       "      <td>순천</td>\n",
       "    </tr>\n",
       "    <tr>\n",
       "      <th>2</th>\n",
       "      <td>영미</td>\n",
       "      <td>35</td>\n",
       "      <td>동해</td>\n",
       "    </tr>\n",
       "    <tr>\n",
       "      <th>4</th>\n",
       "      <td>청춘</td>\n",
       "      <td>30</td>\n",
       "      <td>순천</td>\n",
       "    </tr>\n",
       "    <tr>\n",
       "      <th>5</th>\n",
       "      <td>영미</td>\n",
       "      <td>35</td>\n",
       "      <td>동해</td>\n",
       "    </tr>\n",
       "    <tr>\n",
       "      <th>7</th>\n",
       "      <td>청춘</td>\n",
       "      <td>30</td>\n",
       "      <td>순천</td>\n",
       "    </tr>\n",
       "    <tr>\n",
       "      <th>8</th>\n",
       "      <td>영미</td>\n",
       "      <td>35</td>\n",
       "      <td>동해</td>\n",
       "    </tr>\n",
       "  </tbody>\n",
       "</table>\n",
       "</div>"
      ],
      "text/plain": [
       "   이름  나이  도시\n",
       "1  청춘  30  순천\n",
       "2  영미  35  동해\n",
       "4  청춘  30  순천\n",
       "5  영미  35  동해\n",
       "7  청춘  30  순천\n",
       "8  영미  35  동해"
      ]
     },
     "execution_count": 51,
     "metadata": {},
     "output_type": "execute_result"
    }
   ],
   "source": [
    "filtered_rows2 = df[df[\"나이\"] >= 30]\n",
    "filtered_rows2"
   ]
  },
  {
   "cell_type": "code",
   "execution_count": 53,
   "metadata": {},
   "outputs": [
    {
     "name": "stdout",
     "output_type": "stream",
     "text": [
      "   이름  나이  도시\n",
      "1  청춘  30  순천\n",
      "2  영미  35  동해\n",
      "4  청춘  30  순천\n",
      "5  영미  35  동해\n",
      "7  청춘  30  순천\n",
      "8  영미  35  동해\n"
     ]
    }
   ],
   "source": [
    "condition = (df[\"나이\"] >= 30) & (df[\"도시\"] != \"서울\")\n",
    "\n",
    "filtered_row3 = df[condition]\n",
    "\n",
    "print(filtered_row3)"
   ]
  },
  {
   "cell_type": "code",
   "execution_count": 58,
   "metadata": {},
   "outputs": [
    {
     "data": {
      "text/html": [
       "<div>\n",
       "<style scoped>\n",
       "    .dataframe tbody tr th:only-of-type {\n",
       "        vertical-align: middle;\n",
       "    }\n",
       "\n",
       "    .dataframe tbody tr th {\n",
       "        vertical-align: top;\n",
       "    }\n",
       "\n",
       "    .dataframe thead th {\n",
       "        text-align: right;\n",
       "    }\n",
       "</style>\n",
       "<table border=\"1\" class=\"dataframe\">\n",
       "  <thead>\n",
       "    <tr style=\"text-align: right;\">\n",
       "      <th></th>\n",
       "      <th>이름</th>\n",
       "      <th>나이</th>\n",
       "      <th>도시</th>\n",
       "    </tr>\n",
       "  </thead>\n",
       "  <tbody>\n",
       "    <tr>\n",
       "      <th>0</th>\n",
       "      <td>소라</td>\n",
       "      <td>25</td>\n",
       "      <td>인천</td>\n",
       "    </tr>\n",
       "    <tr>\n",
       "      <th>3</th>\n",
       "      <td>소라</td>\n",
       "      <td>25</td>\n",
       "      <td>인천</td>\n",
       "    </tr>\n",
       "    <tr>\n",
       "      <th>6</th>\n",
       "      <td>소라</td>\n",
       "      <td>25</td>\n",
       "      <td>인천</td>\n",
       "    </tr>\n",
       "  </tbody>\n",
       "</table>\n",
       "</div>"
      ],
      "text/plain": [
       "   이름  나이  도시\n",
       "0  소라  25  인천\n",
       "3  소라  25  인천\n",
       "6  소라  25  인천"
      ]
     },
     "execution_count": 58,
     "metadata": {},
     "output_type": "execute_result"
    }
   ],
   "source": [
    "조건 = df[\"도시\"].isin([\"인천\"])\n",
    "df[조건]"
   ]
  },
  {
   "cell_type": "code",
   "execution_count": 55,
   "metadata": {},
   "outputs": [
    {
     "data": {
      "text/html": [
       "<div>\n",
       "<style scoped>\n",
       "    .dataframe tbody tr th:only-of-type {\n",
       "        vertical-align: middle;\n",
       "    }\n",
       "\n",
       "    .dataframe tbody tr th {\n",
       "        vertical-align: top;\n",
       "    }\n",
       "\n",
       "    .dataframe thead th {\n",
       "        text-align: right;\n",
       "    }\n",
       "</style>\n",
       "<table border=\"1\" class=\"dataframe\">\n",
       "  <thead>\n",
       "    <tr style=\"text-align: right;\">\n",
       "      <th></th>\n",
       "      <th>이름</th>\n",
       "      <th>나이</th>\n",
       "      <th>도시</th>\n",
       "    </tr>\n",
       "  </thead>\n",
       "  <tbody>\n",
       "    <tr>\n",
       "      <th>0</th>\n",
       "      <td>소라</td>\n",
       "      <td>25</td>\n",
       "      <td>인천</td>\n",
       "    </tr>\n",
       "    <tr>\n",
       "      <th>1</th>\n",
       "      <td>청춘</td>\n",
       "      <td>30</td>\n",
       "      <td>순천</td>\n",
       "    </tr>\n",
       "    <tr>\n",
       "      <th>2</th>\n",
       "      <td>영미</td>\n",
       "      <td>35</td>\n",
       "      <td>동해</td>\n",
       "    </tr>\n",
       "    <tr>\n",
       "      <th>3</th>\n",
       "      <td>소라</td>\n",
       "      <td>25</td>\n",
       "      <td>인천</td>\n",
       "    </tr>\n",
       "    <tr>\n",
       "      <th>4</th>\n",
       "      <td>청춘</td>\n",
       "      <td>30</td>\n",
       "      <td>순천</td>\n",
       "    </tr>\n",
       "    <tr>\n",
       "      <th>5</th>\n",
       "      <td>영미</td>\n",
       "      <td>35</td>\n",
       "      <td>동해</td>\n",
       "    </tr>\n",
       "    <tr>\n",
       "      <th>6</th>\n",
       "      <td>소라</td>\n",
       "      <td>25</td>\n",
       "      <td>인천</td>\n",
       "    </tr>\n",
       "    <tr>\n",
       "      <th>7</th>\n",
       "      <td>청춘</td>\n",
       "      <td>30</td>\n",
       "      <td>순천</td>\n",
       "    </tr>\n",
       "    <tr>\n",
       "      <th>8</th>\n",
       "      <td>영미</td>\n",
       "      <td>35</td>\n",
       "      <td>동해</td>\n",
       "    </tr>\n",
       "  </tbody>\n",
       "</table>\n",
       "</div>"
      ],
      "text/plain": [
       "   이름  나이  도시\n",
       "0  소라  25  인천\n",
       "1  청춘  30  순천\n",
       "2  영미  35  동해\n",
       "3  소라  25  인천\n",
       "4  청춘  30  순천\n",
       "5  영미  35  동해\n",
       "6  소라  25  인천\n",
       "7  청춘  30  순천\n",
       "8  영미  35  동해"
      ]
     },
     "execution_count": 55,
     "metadata": {},
     "output_type": "execute_result"
    }
   ],
   "source": [
    "df"
   ]
  },
  {
   "cell_type": "code",
   "execution_count": null,
   "metadata": {},
   "outputs": [],
   "source": []
  }
 ],
 "metadata": {
  "kernelspec": {
   "display_name": "Python 3",
   "language": "python",
   "name": "python3"
  },
  "language_info": {
   "codemirror_mode": {
    "name": "ipython",
    "version": 3
   },
   "file_extension": ".py",
   "mimetype": "text/x-python",
   "name": "python",
   "nbconvert_exporter": "python",
   "pygments_lexer": "ipython3",
   "version": "3.13.1"
  }
 },
 "nbformat": 4,
 "nbformat_minor": 2
}
