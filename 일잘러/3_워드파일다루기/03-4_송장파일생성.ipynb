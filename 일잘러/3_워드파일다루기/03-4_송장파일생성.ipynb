{
 "cells": [
  {
   "cell_type": "code",
   "execution_count": 7,
   "metadata": {},
   "outputs": [
    {
     "name": "stdout",
     "output_type": "stream",
     "text": [
      "표 0\n",
      "행 0\n",
      "열 0: 제품\n",
      "열 1: 수량\n",
      "열 2: 단가\n",
      "열 3: 합계\n",
      "행 1\n",
      "열 0: \n",
      "열 1: \n",
      "열 2: \n",
      "열 3: \n",
      "행 2\n",
      "열 0: \n",
      "열 1: \n",
      "열 2: \n",
      "열 3: \n",
      "행 3\n",
      "열 0: \n",
      "열 1: \n",
      "열 2: \n",
      "열 3: \n",
      "행 4\n",
      "열 0: \n",
      "열 1: \n",
      "열 2: \n",
      "열 3: \n",
      "행 5\n",
      "열 0: 총 합계\n",
      "열 1: 총 합계\n",
      "열 2: 총 합계\n",
      "열 3: \n"
     ]
    }
   ],
   "source": [
    "from docx import Document\n",
    "\n",
    "doc = Document(\"송장.docx\")\n",
    "\n",
    "# for index, paragraph in enumerate(doc.paragraphs): \n",
    "#     print(f\"단락번호: {index}\")\n",
    "\n",
    "#     for idx, run in enumerate(paragraph.runs): \n",
    "#         print(f\"텍스트 번호: {idx}\")\n",
    "#         print(f\"텍스트 내용: {run.text}\")\n",
    "\n",
    "\n",
    "for table_index, table in enumerate(doc.tables): \n",
    "    print(f\"표 {table_index}\")\n",
    "\n",
    "    for row_index, row in enumerate(table.rows): \n",
    "        print(f\"행 {row_index}\")\n",
    "        for cell_index, cell in enumerate(row.cells): \n",
    "            print(f\"열 {cell_index}: {cell.text}\")"
   ]
  },
  {
   "cell_type": "code",
   "execution_count": 15,
   "metadata": {},
   "outputs": [],
   "source": [
    "from docx import Document\n",
    "import os \n",
    "\n",
    "doc = Document(\"송장.docx\")\n",
    "\n",
    "target_paragraph = doc.paragraphs[2]\n",
    "\n",
    "\n",
    "\n",
    "target_paragraph.runs[2].add_text(\"이호연\")\n",
    "target_paragraph.runs[5].add_text(\"서울시 마포구 서교동\")\n",
    "target_paragraph.runs[8].add_text(\"070-333-4444\")\n",
    "\n",
    "table = doc.tables[0]\n",
    "\n",
    "data = [\n",
    "    [\"제품1\", \"2\", \"12,000\", \"24,000\"],\n",
    "    [\"제품2\", \"3\", \"12,000\", \"36,000\"],\n",
    "]\n",
    "\n",
    "for i, row_data in enumerate(data): \n",
    "    for j, cell_data in enumerate(row_data): \n",
    "        table.cell(i+1, j).text = cell_data\n",
    "\n",
    "doc.save(\"이호연_송장.docx\")\n"
   ]
  },
  {
   "cell_type": "code",
   "execution_count": null,
   "metadata": {},
   "outputs": [],
   "source": []
  }
 ],
 "metadata": {
  "kernelspec": {
   "display_name": "Python 3",
   "language": "python",
   "name": "python3"
  },
  "language_info": {
   "codemirror_mode": {
    "name": "ipython",
    "version": 3
   },
   "file_extension": ".py",
   "mimetype": "text/x-python",
   "name": "python",
   "nbconvert_exporter": "python",
   "pygments_lexer": "ipython3",
   "version": "3.13.1"
  }
 },
 "nbformat": 4,
 "nbformat_minor": 2
}
