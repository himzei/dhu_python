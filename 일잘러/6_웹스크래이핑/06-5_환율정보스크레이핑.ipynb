{
 "cells": [
  {
   "cell_type": "code",
   "execution_count": null,
   "metadata": {},
   "outputs": [
    {
     "name": "stdout",
     "output_type": "stream",
     "text": [
      "[\n",
      "                구분    금리   등락율\n",
      "    0    CD금리(91일)  3.02  0.01\n",
      "    1         콜 금리  2.98  0.09\n",
      "    2     국고채 (3년)  2.57  0.00\n",
      "    3     회사채 (3년)  3.19  0.01\n",
      "    4     COFIX 잔액  3.47  0.06\n",
      "    5  COFIX 신규취급액  3.22  0.13,\n",
      "           구분      금리   등락율\n",
      "    0  달러 인덱스  108.87  0.66,\n",
      "    Empty DataFrame\n",
      "    Columns: [업체명, 거래량, 전일비]\n",
      "    Index: [],\n",
      "]\n"
     ]
    },
    {
     "name": "stderr",
     "output_type": "stream",
     "text": [
      "c:\\Users\\user\\AppData\\Local\\Programs\\Python\\Python313\\Lib\\site-packages\\bs4\\__init__.py:339: UserWarning: You provided Unicode markup but also provided a value for from_encoding. Your from_encoding will be ignored.\n",
      "  warnings.warn(\n"
     ]
    }
   ],
   "source": [
    "import pandas as pd\n",
    "import pprintpp \n",
    "\n",
    "url = \"https://finance.naver.com/marketindex\"\n",
    "\n",
    "exchange_list = pd.read_html(url, encoding=\"cp949\", flavor=\"html5lib\")\n",
    "\n"
   ]
  },
  {
   "cell_type": "code",
   "execution_count": 6,
   "metadata": {},
   "outputs": [
    {
     "name": "stderr",
     "output_type": "stream",
     "text": [
      "c:\\Users\\user\\AppData\\Local\\Programs\\Python\\Python313\\Lib\\site-packages\\bs4\\__init__.py:339: UserWarning: You provided Unicode markup but also provided a value for from_encoding. Your from_encoding will be ignored.\n",
      "  warnings.warn(\n"
     ]
    },
    {
     "data": {
      "text/plain": [
       "[              통화명    매매기준율       현찰                송금           미화환산율\n",
       "               통화명    매매기준율     사실 때     파실 때    보내실 때    받으실 때  미화환산율\n",
       " 0          미국 USD  1462.20  1487.78  1436.62  1476.50  1447.90  1.000\n",
       " 1        유럽연합 EUR  1505.19  1535.14  1475.24  1520.24  1490.14  1.029\n",
       " 2   일본 JPY (100엔)   941.44   957.91   924.97   950.66   932.22  0.644\n",
       " 3          중국 CNY   199.83   209.82   189.84   201.82   197.84  0.137\n",
       " 4          홍콩 HKD   187.71   191.40   184.02   189.58   185.84  0.128\n",
       " 5          대만 TWD    44.27    50.06    39.85      NaN      NaN  0.030\n",
       " 6          영국 GBP  1812.76  1848.47  1777.05  1830.88  1794.64  1.240\n",
       " 7          오만 OMR  3797.92  4063.77  3532.07      NaN      NaN  2.597\n",
       " 8         캐나다 CAD  1009.77  1029.66   989.88  1019.86   999.68  0.691\n",
       " 9         스위스 CHF  1602.06  1633.62  1570.50  1618.08  1586.04  1.096\n",
       " 10        스웨덴 SEK   131.37   135.70   123.89   132.68   130.06  0.090\n",
       " 11         호주 AUD   905.10   922.93   887.27   914.15   896.05  0.619\n",
       " 12       뉴질랜드 NZD   817.81   833.92   801.70   825.98   809.64  0.559\n",
       " 13         체코 CZK    59.71    64.78    54.34    60.36    59.06  0.041\n",
       " 14         칠레 CLP     1.48     1.62     1.34      NaN      NaN  0.001\n",
       " 15       튀르키예 TRY    40.58      NaN      NaN    41.02    40.14  0.028\n",
       " 16         몽골 MNT     0.42      NaN      NaN      NaN      NaN  0.000\n",
       " 17       이스라엘 ILS   407.91   448.70   375.28      NaN      NaN  0.279\n",
       " 18        덴마크 DKK   201.74   208.39   190.25   203.75   199.73  0.138\n",
       " 19       노르웨이 NOK   128.11   132.33   120.81   129.39   126.83  0.088\n",
       " 20    사우디아라비아 SAR   389.84   414.39   362.95   393.73   385.95  0.267\n",
       " 21       쿠웨이트 KWD  4732.96  5040.60  4354.33  4780.28  4685.64  3.237\n",
       " 22        바레인 BHD  3878.41  4126.62  3568.14  3917.19  3839.63  2.652\n",
       " 23     아랍에미리트 AED   398.10   419.99   370.64   402.08   394.12  0.272\n",
       " 24        요르단 JOD  2060.45  2243.83  1895.62      NaN      NaN  1.409\n",
       " 25        이집트 EGP    29.03      NaN      NaN      NaN      NaN  0.020\n",
       " 26         태국 THB    43.06    45.21    40.48    43.49    42.63  0.029\n",
       " 27       싱가포르 SGD  1074.36  1095.73  1052.99  1085.10  1063.62  0.735\n",
       " 28      말레이시아 MYR   327.85   352.11   303.59      NaN   324.58  0.224\n",
       " 29  인도네시아 IDR 100     8.95     9.84     8.06     9.03     8.87  0.006\n",
       " 30        카타르 QAR   401.06      NaN      NaN      NaN      NaN  0.274\n",
       " 31      카자흐스탄 KZT     2.80      NaN      NaN      NaN      NaN  0.002\n",
       " 32       브루나이 BND  1074.36  1117.33  1009.90      NaN      NaN  0.735\n",
       " 33         인도 INR    16.79      NaN      NaN    16.98    16.60  0.012\n",
       " 34       파키스탄 PKR     5.24      NaN      NaN      NaN      NaN  0.004\n",
       " 35      방글라데시 BDT    11.99      NaN      NaN      NaN      NaN  0.008\n",
       " 36        필리핀 PHP    25.07    27.57    23.02    25.32    24.82  0.017\n",
       " 37        멕시코 MXN    71.60    79.11    64.09    72.31    70.89  0.049\n",
       " 38        브라질 BRL   251.80   277.48   226.62      NaN   248.78  0.172\n",
       " 39    베트남 VND 100     5.80     6.48     5.12     5.85     5.75  0.004\n",
       " 40  남아프리카 공화국 ZAR    77.78    84.00    71.56    78.71    76.85  0.053\n",
       " 41        러시아 RUB    14.48    15.85    11.95    14.98    13.98  0.010\n",
       " 42        헝가리 HUF     3.68     4.02     3.39     3.72     3.64  0.003\n",
       " 43        폴란드 PLN   355.40   383.83   326.97   359.30   351.50  0.243\n",
       " 44       스리랑카 LKR     4.88      NaN      NaN      NaN      NaN  0.003\n",
       " 45        알제리 DZD    10.77      NaN      NaN      NaN      NaN  0.007\n",
       " 46         케냐 KES    11.33      NaN      NaN      NaN      NaN  0.008\n",
       " 47       콜롬비아 COP     0.35      NaN      NaN      NaN      NaN  0.000\n",
       " 48       탄자니아 TZS     0.57      NaN      NaN      NaN      NaN  0.000\n",
       " 49         네팔 NPR    10.49      NaN      NaN      NaN      NaN  0.007\n",
       " 50       루마니아 RON   302.46      NaN      NaN   305.78   299.14  0.207\n",
       " 51        리비아 LYD   295.97      NaN      NaN   298.92   293.02  0.202\n",
       " 52        마카오 MOP   182.11      NaN      NaN      NaN      NaN  0.125\n",
       " 53        미얀마 MMK     0.70      NaN      NaN      NaN      NaN  0.001\n",
       " 54      에티오피아 ETB    11.43      NaN      NaN      NaN      NaN  0.008\n",
       " 55     우즈베키스탄 UZS     0.11      NaN      NaN      NaN      NaN  0.000\n",
       " 56       캄보디아 KHR     0.36      NaN      NaN      NaN      NaN  0.000\n",
       " 57         피지 FJD   627.72      NaN      NaN      NaN      NaN  0.429]"
      ]
     },
     "execution_count": 6,
     "metadata": {},
     "output_type": "execute_result"
    }
   ],
   "source": [
    "url = \"https://finance.naver.com/marketindex/exchangeList.naver\"\n",
    "exchange_list = pd.read_html(url, encoding=\"cp949\", flavor=\"html5lib\")\n",
    "exchange_list"
   ]
  },
  {
   "cell_type": "code",
   "execution_count": 7,
   "metadata": {},
   "outputs": [
    {
     "data": {
      "text/plain": [
       "'https://finance.naver.com/marketindex/exchangeDetail.naver?marketindexCd=FX_USDKRW'"
      ]
     },
     "execution_count": 7,
     "metadata": {},
     "output_type": "execute_result"
    }
   ],
   "source": [
    "# 통화별 환율 가져오기\n",
    "currency_code = \"USD\"\n",
    "\n",
    "url = \"https://finance.naver.com/marketindex/exchangeDetail.naver?marketindexCd=FX_\" + currency_code + \"KRW\"\n",
    "url"
   ]
  },
  {
   "cell_type": "code",
   "execution_count": 16,
   "metadata": {},
   "outputs": [
    {
     "data": {
      "text/plain": [
       "'전일대비\\n\\n\\n3.90\\n\\n\\n(+\\n0.27%\\n)'"
      ]
     },
     "execution_count": 16,
     "metadata": {},
     "output_type": "execute_result"
    }
   ],
   "source": [
    "import requests\n",
    "from bs4 import BeautifulSoup\n",
    "\n",
    "currency_code = \"USD\"\n",
    "url = \"https://finance.naver.com/marketindex/exchangeDetail.naver?marketindexCd=FX_\" + currency_code + \"KRW\"\n",
    "\n",
    "response = requests.get(url)\n",
    "html_content = response.text\n",
    "soup = BeautifulSoup(html_content, \"html.parser\")\n",
    "\n",
    "rate_info = soup.find(\"p\", class_=\"no_today\").get_text(strip=True)\n",
    "rate_info\n",
    "url\n",
    "\n",
    "exday_info = soup.find(\"p\", class_=\"no_exday\").get_text()\n",
    "exday_info.strip()\n"
   ]
  },
  {
   "cell_type": "code",
   "execution_count": 23,
   "metadata": {},
   "outputs": [
    {
     "name": "stdout",
     "output_type": "stream",
     "text": [
      "미국 USD 실시간환율:  1,461.60원 | 전일대비3.60(+0.25%)\n",
      "홍콩 HKD 실시간환율:  187.65원 | 전일대비0.56(+0.30%)\n",
      "태국 THB 실시간환율:  43.06원 | 전일대비0.00(0.00%)\n",
      "중국 CNY 실시간환율:  199.76원 | 전일대비0.15(+0.08%)\n",
      "일본 JPY 실시간환율:  941.60원 | 전일대비0.07(+0.01%)\n"
     ]
    }
   ],
   "source": [
    "# 통화코드 입력하여 환율 정보 가져오기\n",
    "import requests\n",
    "from bs4 import BeautifulSoup\n",
    "\n",
    "def get_exchange_rate(currency_code):\n",
    "    url = \"https://finance.naver.com/marketindex/exchangeDetail.naver?marketindexCd=FX_\" + currency_code + \"KRW\"\n",
    "    response = requests.get(url)\n",
    "    soup = BeautifulSoup(response.text, \"html.parser\")\n",
    "\n",
    "    country = soup.find(\"h2\").get_text(strip=True)\n",
    "    rate_info = soup.find(\"p\", class_=\"no_today\").get_text(strip=True)\n",
    "    exday_info = soup.find(\"p\", class_=\"no_exday\").get_text(strip=True)\n",
    "\n",
    "    print(country, currency_code, \"실시간환율: \",  rate_info, \"|\", exday_info)\n",
    "\n",
    "get_exchange_rate(\"USD\")\n",
    "get_exchange_rate(\"HKD\")\n",
    "get_exchange_rate(\"THB\")\n",
    "get_exchange_rate(\"CNY\")\n",
    "get_exchange_rate(\"JPY\")"
   ]
  },
  {
   "cell_type": "code",
   "execution_count": 25,
   "metadata": {},
   "outputs": [
    {
     "name": "stdout",
     "output_type": "stream",
     "text": [
      "작업중\n",
      "작업중\n",
      "작업중\n",
      "작업중\n",
      "작업중\n",
      "작업중\n",
      "작업중\n",
      "작업중\n",
      "작업중\n",
      "작업중\n",
      "작업중\n",
      "작업중\n",
      "작업중\n",
      "작업중\n",
      "작업중\n",
      "작업중\n",
      "작업중\n",
      "작업중\n",
      "작업중\n",
      "작업중\n",
      "작업중\n",
      "작업중\n",
      "작업중\n",
      "작업중\n",
      "작업중\n",
      "작업중\n",
      "작업중\n",
      "작업중\n",
      "작업중\n",
      "작업중\n",
      "작업중\n",
      "작업중\n",
      "작업중\n",
      "작업중\n",
      "작업중\n",
      "작업중\n",
      "작업중\n",
      "작업중\n"
     ]
    },
    {
     "ename": "KeyboardInterrupt",
     "evalue": "",
     "output_type": "error",
     "traceback": [
      "\u001b[1;31m---------------------------------------------------------------------------\u001b[0m",
      "\u001b[1;31mKeyboardInterrupt\u001b[0m                         Traceback (most recent call last)",
      "Cell \u001b[1;32mIn[25], line 14\u001b[0m\n\u001b[0;32m     12\u001b[0m \u001b[38;5;28;01mwhile\u001b[39;00m \u001b[38;5;28;01mTrue\u001b[39;00m: \n\u001b[0;32m     13\u001b[0m     schedule\u001b[38;5;241m.\u001b[39mrun_pending()\n\u001b[1;32m---> 14\u001b[0m     \u001b[43mtime\u001b[49m\u001b[38;5;241;43m.\u001b[39;49m\u001b[43msleep\u001b[49m\u001b[43m(\u001b[49m\u001b[38;5;241;43m1\u001b[39;49m\u001b[43m)\u001b[49m\n",
      "\u001b[1;31mKeyboardInterrupt\u001b[0m: "
     ]
    }
   ],
   "source": [
    "# 주기적인 실행을 위한 스케줄 라이브러리 알아보기\n",
    "import schedule \n",
    "import time \n",
    "\n",
    "def job():\n",
    "    print(\"작업중\")\n",
    "\n",
    "schedule.every().day.at(\"10:30\").do(job)\n",
    "schedule.every().wednesday.at(\"13:15\").do(job)\n",
    "schedule.every(5).seconds.do(job)\n",
    "\n",
    "while True: \n",
    "    schedule.run_pending()\n",
    "    time.sleep(1)\n",
    "\n"
   ]
  },
  {
   "cell_type": "code",
   "execution_count": null,
   "metadata": {},
   "outputs": [],
   "source": []
  }
 ],
 "metadata": {
  "kernelspec": {
   "display_name": "Python 3",
   "language": "python",
   "name": "python3"
  },
  "language_info": {
   "codemirror_mode": {
    "name": "ipython",
    "version": 3
   },
   "file_extension": ".py",
   "mimetype": "text/x-python",
   "name": "python",
   "nbconvert_exporter": "python",
   "pygments_lexer": "ipython3",
   "version": "3.13.1"
  }
 },
 "nbformat": 4,
 "nbformat_minor": 2
}
