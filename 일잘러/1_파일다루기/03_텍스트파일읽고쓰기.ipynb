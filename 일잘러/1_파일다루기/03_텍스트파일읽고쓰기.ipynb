{
 "cells": [
  {
   "cell_type": "code",
   "execution_count": 1,
   "metadata": {},
   "outputs": [
    {
     "name": "stdout",
     "output_type": "stream",
     "text": [
      "첫 번째 파일 일기!\n",
      "첫 번째 파일 일기!\n",
      "첫 번째 파일 일기!\n"
     ]
    }
   ],
   "source": [
    "file = open(\"./example.txt\", \"r\", encoding=\"utf-8\")\n",
    "\n",
    "content = file.read()\n",
    "\n",
    "file.close()\n",
    "\n",
    "print(content)"
   ]
  },
  {
   "cell_type": "code",
   "execution_count": 2,
   "metadata": {},
   "outputs": [
    {
     "name": "stdout",
     "output_type": "stream",
     "text": [
      "첫 번째 파일 일기!\n",
      "첫 번째 파일 일기!\n",
      "첫 번째 파일 일기!\n"
     ]
    }
   ],
   "source": [
    "with open(\"./example.txt\", \"r\", encoding=\"utf-8\") as file:\n",
    "    content = file.read()\n",
    "    print(content) \n",
    "\n"
   ]
  },
  {
   "cell_type": "code",
   "execution_count": 6,
   "metadata": {},
   "outputs": [],
   "source": [
    "# 텍스트 파일 쓰기\n",
    "\n",
    "with open(\"./example_w.txt\", \"w\", encoding=\"utf-8\") as file: \n",
    "    file.write(\"Hello, \\nworld!\")"
   ]
  },
  {
   "cell_type": "code",
   "execution_count": 7,
   "metadata": {},
   "outputs": [
    {
     "name": "stdout",
     "output_type": "stream",
     "text": [
      "Hello, \n",
      " world!\n"
     ]
    }
   ],
   "source": [
    "# 한줄씩 읽기 readline()\n",
    "\n",
    "with open(\"./example_w.txt\", \"r\", encoding=\"utf-8\") as file:\n",
    "    line1 = file.readline()\n",
    "    line2 = file.readline()\n",
    "\n",
    "print(line1, line2)\n",
    "    "
   ]
  },
  {
   "cell_type": "code",
   "execution_count": 8,
   "metadata": {},
   "outputs": [
    {
     "name": "stdout",
     "output_type": "stream",
     "text": [
      "Hello,\n",
      "world!\n"
     ]
    }
   ],
   "source": [
    "with open(\"example_w.txt\", \"r\", encoding=\"utf-8\") as file: \n",
    "    line = file.readline()\n",
    "\n",
    "    while line: \n",
    "        print(line.strip())\n",
    "        line = file.readline()"
   ]
  },
  {
   "cell_type": "code",
   "execution_count": 10,
   "metadata": {},
   "outputs": [
    {
     "name": "stdout",
     "output_type": "stream",
     "text": [
      "Hello,\n",
      "world!\n"
     ]
    }
   ],
   "source": [
    "# readlines 모든 줄을 읽어 리스트로 반환하기\n",
    "\n",
    "with open(\"example_w.txt\", \"r\") as file: \n",
    "    lines = file.readlines()\n",
    "\n",
    "    # print(lines)\n",
    "\n",
    "    for line in lines:\n",
    "        print(line.strip())"
   ]
  },
  {
   "cell_type": "code",
   "execution_count": 11,
   "metadata": {},
   "outputs": [],
   "source": [
    "with open(\"example_line.txt\", \"w\") as file: \n",
    "    file.write(\"Hello, world1\")\n",
    "    file.write(\"Hello, world2\")\n",
    "\n",
    "    "
   ]
  },
  {
   "cell_type": "code",
   "execution_count": 12,
   "metadata": {},
   "outputs": [],
   "source": [
    "with open(\"example_line.txt\", \"w\") as file: \n",
    "    file.write(\"Hello, world1\\n\")\n",
    "    file.write(\"Hello, world2\")"
   ]
  },
  {
   "cell_type": "code",
   "execution_count": 13,
   "metadata": {},
   "outputs": [],
   "source": [
    "lines = [\"python\", \"is\", \"too\", \"difficult\"]\n",
    "\n",
    "with open(\"./example_line.txt\", \"w\") as file: \n",
    "    for line in lines:\n",
    "        file.write(f\"안녕하세요 : {line}\\n\")"
   ]
  },
  {
   "cell_type": "code",
   "execution_count": 14,
   "metadata": {},
   "outputs": [],
   "source": [
    "lines = [\"python\\n\", \"is\\n\", \"too\\n\", \"difficult\\n\"]\n",
    "\n",
    "with open(\"example_line.txt\", \"w\", encoding=\"utf-8\") as file: \n",
    "    file.writelines(lines)\n",
    "    "
   ]
  },
  {
   "cell_type": "code",
   "execution_count": 21,
   "metadata": {},
   "outputs": [
    {
     "name": "stdout",
     "output_type": "stream",
     "text": [
      "Before: Hello, world!\n",
      "Hello, again!\n",
      "After: o, again!\n",
      "Final: We can change it.\n",
      "o, again!\n"
     ]
    }
   ],
   "source": [
    "# 파일 포인터의 동작원리\n",
    "\n",
    "with open(\"example_line.txt\", \"r+\", encoding=\"utf-8\") as f:\n",
    "    content = f.read()\n",
    "    print(\"Before:\", content)\n",
    "\n",
    "    f.seek(0)\n",
    "    f.write(\"We can change it.\\n\")\n",
    "\n",
    "    content = f.read()\n",
    "    print(\"After:\", content)\n",
    "\n",
    "    f.seek(0)\n",
    "    content = f.read()\n",
    "    print(\"Final:\", content)"
   ]
  },
  {
   "cell_type": "markdown",
   "metadata": {},
   "source": []
  }
 ],
 "metadata": {
  "kernelspec": {
   "display_name": "Python 3",
   "language": "python",
   "name": "python3"
  },
  "language_info": {
   "codemirror_mode": {
    "name": "ipython",
    "version": 3
   },
   "file_extension": ".py",
   "mimetype": "text/x-python",
   "name": "python",
   "nbconvert_exporter": "python",
   "pygments_lexer": "ipython3",
   "version": "3.13.1"
  }
 },
 "nbformat": 4,
 "nbformat_minor": 2
}
